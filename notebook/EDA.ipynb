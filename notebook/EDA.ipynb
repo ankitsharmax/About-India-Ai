{
 "cells": [
  {
   "cell_type": "markdown",
   "metadata": {},
   "source": [
    "### Loading Libraries"
   ]
  },
  {
   "cell_type": "code",
   "execution_count": 25,
   "metadata": {},
   "outputs": [],
   "source": [
    "import pandas as pd\n",
    "import numpy as np\n",
    "import warnings\n",
    "warnings.filterwarnings(\"ignore\")"
   ]
  },
  {
   "cell_type": "code",
   "execution_count": 26,
   "metadata": {},
   "outputs": [
    {
     "data": {
      "text/html": [
       "<div>\n",
       "<style scoped>\n",
       "    .dataframe tbody tr th:only-of-type {\n",
       "        vertical-align: middle;\n",
       "    }\n",
       "\n",
       "    .dataframe tbody tr th {\n",
       "        vertical-align: top;\n",
       "    }\n",
       "\n",
       "    .dataframe thead th {\n",
       "        text-align: right;\n",
       "    }\n",
       "</style>\n",
       "<table border=\"1\" class=\"dataframe\">\n",
       "  <thead>\n",
       "    <tr style=\"text-align: right;\">\n",
       "      <th></th>\n",
       "      <th>city</th>\n",
       "      <th>page_url</th>\n",
       "      <th>download_url</th>\n",
       "      <th>download_status</th>\n",
       "    </tr>\n",
       "  </thead>\n",
       "  <tbody>\n",
       "    <tr>\n",
       "      <th>0</th>\n",
       "      <td>Delhi</td>\n",
       "      <td>https://en.wikipedia.org/wiki/Delhi</td>\n",
       "      <td>https://en.wikipedia.org/api/rest_v1/page/pdf/...</td>\n",
       "      <td>0</td>\n",
       "    </tr>\n",
       "    <tr>\n",
       "      <th>1</th>\n",
       "      <td>Mumbai</td>\n",
       "      <td>https://en.wikipedia.org/wiki/Mumbai</td>\n",
       "      <td>https://en.wikipedia.org/api/rest_v1/page/pdf/...</td>\n",
       "      <td>0</td>\n",
       "    </tr>\n",
       "    <tr>\n",
       "      <th>2</th>\n",
       "      <td>Kolkata</td>\n",
       "      <td>https://en.wikipedia.org/wiki/Kolkata</td>\n",
       "      <td>https://en.wikipedia.org/api/rest_v1/page/pdf/...</td>\n",
       "      <td>0</td>\n",
       "    </tr>\n",
       "    <tr>\n",
       "      <th>3</th>\n",
       "      <td>Bangalore</td>\n",
       "      <td>https://en.wikipedia.org/wiki/Bangalore</td>\n",
       "      <td>https://en.wikipedia.org/api/rest_v1/page/pdf/...</td>\n",
       "      <td>0</td>\n",
       "    </tr>\n",
       "    <tr>\n",
       "      <th>4</th>\n",
       "      <td>Chennai</td>\n",
       "      <td>https://en.wikipedia.org/wiki/Chennai</td>\n",
       "      <td>https://en.wikipedia.org/api/rest_v1/page/pdf/...</td>\n",
       "      <td>0</td>\n",
       "    </tr>\n",
       "  </tbody>\n",
       "</table>\n",
       "</div>"
      ],
      "text/plain": [
       "        city                                 page_url  \\\n",
       "0      Delhi      https://en.wikipedia.org/wiki/Delhi   \n",
       "1     Mumbai     https://en.wikipedia.org/wiki/Mumbai   \n",
       "2    Kolkata    https://en.wikipedia.org/wiki/Kolkata   \n",
       "3  Bangalore  https://en.wikipedia.org/wiki/Bangalore   \n",
       "4    Chennai    https://en.wikipedia.org/wiki/Chennai   \n",
       "\n",
       "                                        download_url  download_status  \n",
       "0  https://en.wikipedia.org/api/rest_v1/page/pdf/...                0  \n",
       "1  https://en.wikipedia.org/api/rest_v1/page/pdf/...                0  \n",
       "2  https://en.wikipedia.org/api/rest_v1/page/pdf/...                0  \n",
       "3  https://en.wikipedia.org/api/rest_v1/page/pdf/...                0  \n",
       "4  https://en.wikipedia.org/api/rest_v1/page/pdf/...                0  "
      ]
     },
     "execution_count": 26,
     "metadata": {},
     "output_type": "execute_result"
    }
   ],
   "source": [
    "df = pd.read_csv(\"..\\data\\crawler_data.csv\")\n",
    "df.head()"
   ]
  },
  {
   "cell_type": "code",
   "execution_count": 27,
   "metadata": {},
   "outputs": [
    {
     "data": {
      "text/plain": [
       "city\n",
       "False    5585\n",
       "Name: count, dtype: int64"
      ]
     },
     "execution_count": 27,
     "metadata": {},
     "output_type": "execute_result"
    }
   ],
   "source": [
    "df.city.isna().value_counts()"
   ]
  },
  {
   "cell_type": "code",
   "execution_count": 28,
   "metadata": {},
   "outputs": [
    {
     "data": {
      "text/plain": [
       "city\n",
       "Delhi                     1\n",
       "Pachchaimalaiyankottai    1\n",
       "Puduvayal                 1\n",
       "Puliyampatti              1\n",
       "Kishunpur                 1\n",
       "                         ..\n",
       "Navapur                   1\n",
       "Magadi                    1\n",
       "Panakkudi                 1\n",
       "Jamtara                   1\n",
       "Munnelli                  1\n",
       "Name: count, Length: 5585, dtype: int64"
      ]
     },
     "execution_count": 28,
     "metadata": {},
     "output_type": "execute_result"
    }
   ],
   "source": [
    "df.city.value_counts()"
   ]
  },
  {
   "cell_type": "code",
   "execution_count": 29,
   "metadata": {},
   "outputs": [
    {
     "name": "stdout",
     "output_type": "stream",
     "text": [
      "(5585,)\n"
     ]
    }
   ],
   "source": [
    "df_city = df[[\"city\"]]\n",
    "print(df_city.city.shape)"
   ]
  },
  {
   "cell_type": "code",
   "execution_count": 30,
   "metadata": {},
   "outputs": [
    {
     "name": "stdout",
     "output_type": "stream",
     "text": [
      "(5585, 1)\n"
     ]
    }
   ],
   "source": [
    "df_city.drop_duplicates(keep='first',inplace=True)\n",
    "print(df_city.shape)"
   ]
  },
  {
   "cell_type": "code",
   "execution_count": 31,
   "metadata": {},
   "outputs": [
    {
     "data": {
      "text/plain": [
       "city        \n",
       "Abbigeri        1\n",
       "Palavur         1\n",
       "Palia Kalan     1\n",
       "Pali            1\n",
       "Palhalan        1\n",
       "               ..\n",
       "Ingraj Bazar    1\n",
       "Ingleshwar      1\n",
       "Indurti         1\n",
       "Indore          1\n",
       "Zuvvaladinne    1\n",
       "Name: count, Length: 5585, dtype: int64"
      ]
     },
     "execution_count": 31,
     "metadata": {},
     "output_type": "execute_result"
    }
   ],
   "source": [
    "df_city.value_counts()"
   ]
  },
  {
   "cell_type": "code",
   "execution_count": null,
   "metadata": {},
   "outputs": [],
   "source": []
  }
 ],
 "metadata": {
  "kernelspec": {
   "display_name": "venv",
   "language": "python",
   "name": "python3"
  },
  "language_info": {
   "codemirror_mode": {
    "name": "ipython",
    "version": 3
   },
   "file_extension": ".py",
   "mimetype": "text/x-python",
   "name": "python",
   "nbconvert_exporter": "python",
   "pygments_lexer": "ipython3",
   "version": "3.10.11"
  }
 },
 "nbformat": 4,
 "nbformat_minor": 2
}
